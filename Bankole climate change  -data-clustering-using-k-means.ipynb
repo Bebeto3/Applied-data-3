{
 "cells": [
  {
   "cell_type": "markdown",
   "metadata": {},
   "source": [
    "# THE CLIMATE CHANGE :  Clustering \n"
   ]
  },
  {
   "cell_type": "markdown",
   "metadata": {},
   "source": [
    "###### The  k-means clustering using scikit-learn was performed on the climate dataset "
   ]
  },
  {
   "cell_type": "markdown",
   "metadata": {},
   "source": [
    "### Importing the Necessary Libraries"
   ]
  },
  {
   "cell_type": "code",
   "execution_count": 55,
   "metadata": {},
   "outputs": [],
   "source": [
    "from sklearn.preprocessing import StandardScaler\n",
    "from sklearn.cluster import KMeans\n",
    "import pandas as pd\n",
    "import numpy as np\n",
    "from itertools import cycle, islice\n",
    "import matplotlib.pyplot as plt\n",
    "from pandas.plotting import parallel_coordinates\n",
    "%matplotlib inline"
   ]
  },
  {
   "cell_type": "markdown",
   "metadata": {},
   "source": [
    "### Importing Dataset \n"
   ]
  },
  {
   "cell_type": "code",
   "execution_count": 57,
   "metadata": {
    "scrolled": true
   },
   "outputs": [],
   "source": [
    "data = pd.read_csv(\"C:\\dataset\\weather.csv\")"
   ]
  },
  {
   "cell_type": "markdown",
   "metadata": {},
   "source": [
    "* **rowID:** \tunique number for each row\t(*Unit: NA*)\n",
    "* **hpwren_timestamp:**\ttimestamp of measure\t(*Unit: year-month-day hour:minute:second*)\n",
    "* **air_pressure:** air pressure measured at the timestamp\t(*Unit: hectopascals*)\n",
    "* **air_temp:**\tair temperature measure at the timestamp\t(*Unit: degrees Fahrenheit*)\n",
    "* **avg_wind_direction:**\twind direction averaged over the minute before the timestamp\t(*Unit: degrees, with 0 means coming from the North, and increasing clockwise*)\n",
    "* **avg_wind_speed:**\twind speed averaged over the minute before the timestamp\t(*Unit: meters per second*)\n",
    "* **max_wind_direction:**\thighest wind direction in the minute before the timestamp\t(*Unit: degrees, with 0 being North and increasing clockwise*)\n",
    "* **max_wind_speed:**\thighest wind speed in the minute before the timestamp\t(*Unit: meters per second*)\n",
    "* **min_wind_direction:**\tsmallest wind direction in the minute before the timestamp\t(*Unit: degrees, with 0 being North and inceasing clockwise*)\n",
    "* **min_wind_speed:**\tsmallest wind speed in the minute before the timestamp\t(*Unit: meters per second*)\n",
    "* **rain_accumulation:**\tamount of accumulated rain measured at the timestamp\t(*Unit: millimeters*)\n",
    "* **rain_duration:**\tlength of time rain has fallen as measured at the timestamp\t(*Unit: seconds*)\n",
    "* **relative_humidity:**\trelative humidity measured at the timestamp\t(*Unit: percent*)"
   ]
  },
  {
   "cell_type": "code",
   "execution_count": 58,
   "metadata": {},
   "outputs": [
    {
     "data": {
      "text/plain": [
       "(1587257, 13)"
      ]
     },
     "execution_count": 58,
     "metadata": {},
     "output_type": "execute_result"
    }
   ],
   "source": [
    "data.shape"
   ]
  },
  {
   "cell_type": "code",
   "execution_count": 59,
   "metadata": {},
   "outputs": [
    {
     "data": {
      "text/html": [
       "<div>\n",
       "<style scoped>\n",
       "    .dataframe tbody tr th:only-of-type {\n",
       "        vertical-align: middle;\n",
       "    }\n",
       "\n",
       "    .dataframe tbody tr th {\n",
       "        vertical-align: top;\n",
       "    }\n",
       "\n",
       "    .dataframe thead th {\n",
       "        text-align: right;\n",
       "    }\n",
       "</style>\n",
       "<table border=\"1\" class=\"dataframe\">\n",
       "  <thead>\n",
       "    <tr style=\"text-align: right;\">\n",
       "      <th></th>\n",
       "      <th>rowID</th>\n",
       "      <th>hpwren_timestamp</th>\n",
       "      <th>air_pressure</th>\n",
       "      <th>air_temp</th>\n",
       "      <th>avg_wind_direction</th>\n",
       "      <th>avg_wind_speed</th>\n",
       "      <th>max_wind_direction</th>\n",
       "      <th>max_wind_speed</th>\n",
       "      <th>min_wind_direction</th>\n",
       "      <th>min_wind_speed</th>\n",
       "      <th>rain_accumulation</th>\n",
       "      <th>rain_duration</th>\n",
       "      <th>relative_humidity</th>\n",
       "    </tr>\n",
       "  </thead>\n",
       "  <tbody>\n",
       "    <tr>\n",
       "      <th>0</th>\n",
       "      <td>0</td>\n",
       "      <td>2011-09-10 00:00:49</td>\n",
       "      <td>912.3</td>\n",
       "      <td>64.76</td>\n",
       "      <td>97.0</td>\n",
       "      <td>1.2</td>\n",
       "      <td>106.0</td>\n",
       "      <td>1.6</td>\n",
       "      <td>85.0</td>\n",
       "      <td>1.0</td>\n",
       "      <td>NaN</td>\n",
       "      <td>NaN</td>\n",
       "      <td>60.5</td>\n",
       "    </tr>\n",
       "    <tr>\n",
       "      <th>1</th>\n",
       "      <td>1</td>\n",
       "      <td>2011-09-10 00:01:49</td>\n",
       "      <td>912.3</td>\n",
       "      <td>63.86</td>\n",
       "      <td>161.0</td>\n",
       "      <td>0.8</td>\n",
       "      <td>215.0</td>\n",
       "      <td>1.5</td>\n",
       "      <td>43.0</td>\n",
       "      <td>0.2</td>\n",
       "      <td>0.0</td>\n",
       "      <td>0.0</td>\n",
       "      <td>39.9</td>\n",
       "    </tr>\n",
       "    <tr>\n",
       "      <th>2</th>\n",
       "      <td>2</td>\n",
       "      <td>2011-09-10 00:02:49</td>\n",
       "      <td>912.3</td>\n",
       "      <td>64.22</td>\n",
       "      <td>77.0</td>\n",
       "      <td>0.7</td>\n",
       "      <td>143.0</td>\n",
       "      <td>1.2</td>\n",
       "      <td>324.0</td>\n",
       "      <td>0.3</td>\n",
       "      <td>0.0</td>\n",
       "      <td>0.0</td>\n",
       "      <td>43.0</td>\n",
       "    </tr>\n",
       "    <tr>\n",
       "      <th>3</th>\n",
       "      <td>3</td>\n",
       "      <td>2011-09-10 00:03:49</td>\n",
       "      <td>912.3</td>\n",
       "      <td>64.40</td>\n",
       "      <td>89.0</td>\n",
       "      <td>1.2</td>\n",
       "      <td>112.0</td>\n",
       "      <td>1.6</td>\n",
       "      <td>12.0</td>\n",
       "      <td>0.7</td>\n",
       "      <td>0.0</td>\n",
       "      <td>0.0</td>\n",
       "      <td>49.5</td>\n",
       "    </tr>\n",
       "    <tr>\n",
       "      <th>4</th>\n",
       "      <td>4</td>\n",
       "      <td>2011-09-10 00:04:49</td>\n",
       "      <td>912.3</td>\n",
       "      <td>64.40</td>\n",
       "      <td>185.0</td>\n",
       "      <td>0.4</td>\n",
       "      <td>260.0</td>\n",
       "      <td>1.0</td>\n",
       "      <td>100.0</td>\n",
       "      <td>0.1</td>\n",
       "      <td>0.0</td>\n",
       "      <td>0.0</td>\n",
       "      <td>58.8</td>\n",
       "    </tr>\n",
       "  </tbody>\n",
       "</table>\n",
       "</div>"
      ],
      "text/plain": [
       "   rowID     hpwren_timestamp  air_pressure  air_temp  avg_wind_direction  \\\n",
       "0      0  2011-09-10 00:00:49         912.3     64.76                97.0   \n",
       "1      1  2011-09-10 00:01:49         912.3     63.86               161.0   \n",
       "2      2  2011-09-10 00:02:49         912.3     64.22                77.0   \n",
       "3      3  2011-09-10 00:03:49         912.3     64.40                89.0   \n",
       "4      4  2011-09-10 00:04:49         912.3     64.40               185.0   \n",
       "\n",
       "   avg_wind_speed  max_wind_direction  max_wind_speed  min_wind_direction  \\\n",
       "0             1.2               106.0             1.6                85.0   \n",
       "1             0.8               215.0             1.5                43.0   \n",
       "2             0.7               143.0             1.2               324.0   \n",
       "3             1.2               112.0             1.6                12.0   \n",
       "4             0.4               260.0             1.0               100.0   \n",
       "\n",
       "   min_wind_speed  rain_accumulation  rain_duration  relative_humidity  \n",
       "0             1.0                NaN            NaN               60.5  \n",
       "1             0.2                0.0            0.0               39.9  \n",
       "2             0.3                0.0            0.0               43.0  \n",
       "3             0.7                0.0            0.0               49.5  \n",
       "4             0.1                0.0            0.0               58.8  "
      ]
     },
     "execution_count": 59,
     "metadata": {},
     "output_type": "execute_result"
    }
   ],
   "source": [
    "data.head()"
   ]
  },
  {
   "cell_type": "markdown",
   "metadata": {},
   "source": [
    "<p style=\"font-family: Arial; font-size:1.75em;color:purple; font-style:bold\"><br>\n",
    "\n",
    "Data Sampling<br></p>\n",
    "\n",
    "Lots of rows, so let us sample down by taking every 10th row. <br>\n"
   ]
  },
  {
   "cell_type": "code",
   "execution_count": 60,
   "metadata": {},
   "outputs": [
    {
     "data": {
      "text/plain": [
       "(158726, 13)"
      ]
     },
     "execution_count": 60,
     "metadata": {},
     "output_type": "execute_result"
    }
   ],
   "source": [
    "sampled_df = data[(data['rowID'] % 10) == 0]\n",
    "sampled_df.shape"
   ]
  },
  {
   "cell_type": "markdown",
   "metadata": {},
   "source": [
    "<p style=\"font-family: Arial; font-size:1.75em;color:purple; font-style:bold\"><br>\n",
    "\n",
    "Statistics\n",
    "<br><br></p>\n"
   ]
  },
  {
   "cell_type": "code",
   "execution_count": 62,
   "metadata": {},
   "outputs": [
    {
     "data": {
      "text/html": [
       "<div>\n",
       "<style scoped>\n",
       "    .dataframe tbody tr th:only-of-type {\n",
       "        vertical-align: middle;\n",
       "    }\n",
       "\n",
       "    .dataframe tbody tr th {\n",
       "        vertical-align: top;\n",
       "    }\n",
       "\n",
       "    .dataframe thead th {\n",
       "        text-align: right;\n",
       "    }\n",
       "</style>\n",
       "<table border=\"1\" class=\"dataframe\">\n",
       "  <thead>\n",
       "    <tr style=\"text-align: right;\">\n",
       "      <th></th>\n",
       "      <th>rowID</th>\n",
       "      <th>air_pressure</th>\n",
       "      <th>air_temp</th>\n",
       "      <th>avg_wind_direction</th>\n",
       "      <th>avg_wind_speed</th>\n",
       "      <th>max_wind_direction</th>\n",
       "      <th>max_wind_speed</th>\n",
       "      <th>min_wind_direction</th>\n",
       "      <th>min_wind_speed</th>\n",
       "      <th>rain_accumulation</th>\n",
       "      <th>rain_duration</th>\n",
       "      <th>relative_humidity</th>\n",
       "    </tr>\n",
       "  </thead>\n",
       "  <tbody>\n",
       "    <tr>\n",
       "      <th>count</th>\n",
       "      <td>1.587260e+05</td>\n",
       "      <td>158726.000000</td>\n",
       "      <td>158726.000000</td>\n",
       "      <td>158680.000000</td>\n",
       "      <td>158680.000000</td>\n",
       "      <td>158680.000000</td>\n",
       "      <td>158680.000000</td>\n",
       "      <td>158680.000000</td>\n",
       "      <td>158680.000000</td>\n",
       "      <td>158725.000000</td>\n",
       "      <td>158725.000000</td>\n",
       "      <td>158726.000000</td>\n",
       "    </tr>\n",
       "    <tr>\n",
       "      <th>mean</th>\n",
       "      <td>7.936250e+05</td>\n",
       "      <td>916.830161</td>\n",
       "      <td>61.851589</td>\n",
       "      <td>162.156100</td>\n",
       "      <td>2.775215</td>\n",
       "      <td>163.462144</td>\n",
       "      <td>3.400558</td>\n",
       "      <td>166.774017</td>\n",
       "      <td>2.134664</td>\n",
       "      <td>0.000318</td>\n",
       "      <td>0.409627</td>\n",
       "      <td>47.609470</td>\n",
       "    </tr>\n",
       "    <tr>\n",
       "      <th>std</th>\n",
       "      <td>4.582039e+05</td>\n",
       "      <td>3.051717</td>\n",
       "      <td>11.833569</td>\n",
       "      <td>95.278201</td>\n",
       "      <td>2.057624</td>\n",
       "      <td>92.452139</td>\n",
       "      <td>2.418802</td>\n",
       "      <td>97.441109</td>\n",
       "      <td>1.742113</td>\n",
       "      <td>0.011236</td>\n",
       "      <td>8.665523</td>\n",
       "      <td>26.214409</td>\n",
       "    </tr>\n",
       "    <tr>\n",
       "      <th>min</th>\n",
       "      <td>0.000000e+00</td>\n",
       "      <td>905.000000</td>\n",
       "      <td>31.640000</td>\n",
       "      <td>0.000000</td>\n",
       "      <td>0.000000</td>\n",
       "      <td>0.000000</td>\n",
       "      <td>0.100000</td>\n",
       "      <td>0.000000</td>\n",
       "      <td>0.000000</td>\n",
       "      <td>0.000000</td>\n",
       "      <td>0.000000</td>\n",
       "      <td>0.900000</td>\n",
       "    </tr>\n",
       "    <tr>\n",
       "      <th>25%</th>\n",
       "      <td>3.968125e+05</td>\n",
       "      <td>914.800000</td>\n",
       "      <td>52.700000</td>\n",
       "      <td>62.000000</td>\n",
       "      <td>1.300000</td>\n",
       "      <td>68.000000</td>\n",
       "      <td>1.600000</td>\n",
       "      <td>76.000000</td>\n",
       "      <td>0.800000</td>\n",
       "      <td>0.000000</td>\n",
       "      <td>0.000000</td>\n",
       "      <td>24.700000</td>\n",
       "    </tr>\n",
       "    <tr>\n",
       "      <th>50%</th>\n",
       "      <td>7.936250e+05</td>\n",
       "      <td>916.700000</td>\n",
       "      <td>62.240000</td>\n",
       "      <td>182.000000</td>\n",
       "      <td>2.200000</td>\n",
       "      <td>187.000000</td>\n",
       "      <td>2.700000</td>\n",
       "      <td>180.000000</td>\n",
       "      <td>1.600000</td>\n",
       "      <td>0.000000</td>\n",
       "      <td>0.000000</td>\n",
       "      <td>44.700000</td>\n",
       "    </tr>\n",
       "    <tr>\n",
       "      <th>75%</th>\n",
       "      <td>1.190438e+06</td>\n",
       "      <td>918.700000</td>\n",
       "      <td>70.880000</td>\n",
       "      <td>217.000000</td>\n",
       "      <td>3.800000</td>\n",
       "      <td>223.000000</td>\n",
       "      <td>4.600000</td>\n",
       "      <td>212.000000</td>\n",
       "      <td>3.000000</td>\n",
       "      <td>0.000000</td>\n",
       "      <td>0.000000</td>\n",
       "      <td>68.000000</td>\n",
       "    </tr>\n",
       "    <tr>\n",
       "      <th>max</th>\n",
       "      <td>1.587250e+06</td>\n",
       "      <td>929.500000</td>\n",
       "      <td>99.500000</td>\n",
       "      <td>359.000000</td>\n",
       "      <td>31.900000</td>\n",
       "      <td>359.000000</td>\n",
       "      <td>36.000000</td>\n",
       "      <td>359.000000</td>\n",
       "      <td>31.600000</td>\n",
       "      <td>3.120000</td>\n",
       "      <td>2960.000000</td>\n",
       "      <td>93.000000</td>\n",
       "    </tr>\n",
       "  </tbody>\n",
       "</table>\n",
       "</div>"
      ],
      "text/plain": [
       "              rowID   air_pressure       air_temp  avg_wind_direction  \\\n",
       "count  1.587260e+05  158726.000000  158726.000000       158680.000000   \n",
       "mean   7.936250e+05     916.830161      61.851589          162.156100   \n",
       "std    4.582039e+05       3.051717      11.833569           95.278201   \n",
       "min    0.000000e+00     905.000000      31.640000            0.000000   \n",
       "25%    3.968125e+05     914.800000      52.700000           62.000000   \n",
       "50%    7.936250e+05     916.700000      62.240000          182.000000   \n",
       "75%    1.190438e+06     918.700000      70.880000          217.000000   \n",
       "max    1.587250e+06     929.500000      99.500000          359.000000   \n",
       "\n",
       "       avg_wind_speed  max_wind_direction  max_wind_speed  min_wind_direction  \\\n",
       "count   158680.000000       158680.000000   158680.000000       158680.000000   \n",
       "mean         2.775215          163.462144        3.400558          166.774017   \n",
       "std          2.057624           92.452139        2.418802           97.441109   \n",
       "min          0.000000            0.000000        0.100000            0.000000   \n",
       "25%          1.300000           68.000000        1.600000           76.000000   \n",
       "50%          2.200000          187.000000        2.700000          180.000000   \n",
       "75%          3.800000          223.000000        4.600000          212.000000   \n",
       "max         31.900000          359.000000       36.000000          359.000000   \n",
       "\n",
       "       min_wind_speed  rain_accumulation  rain_duration  relative_humidity  \n",
       "count   158680.000000      158725.000000  158725.000000      158726.000000  \n",
       "mean         2.134664           0.000318       0.409627          47.609470  \n",
       "std          1.742113           0.011236       8.665523          26.214409  \n",
       "min          0.000000           0.000000       0.000000           0.900000  \n",
       "25%          0.800000           0.000000       0.000000          24.700000  \n",
       "50%          1.600000           0.000000       0.000000          44.700000  \n",
       "75%          3.000000           0.000000       0.000000          68.000000  \n",
       "max         31.600000           3.120000    2960.000000          93.000000  "
      ]
     },
     "execution_count": 62,
     "metadata": {},
     "output_type": "execute_result"
    }
   ],
   "source": [
    "sampled_df.describe()"
   ]
  },
  {
   "cell_type": "code",
   "execution_count": 63,
   "metadata": {},
   "outputs": [
    {
     "data": {
      "text/plain": [
       "(157812, 13)"
      ]
     },
     "execution_count": 63,
     "metadata": {},
     "output_type": "execute_result"
    }
   ],
   "source": [
    "sampled_df[sampled_df['rain_accumulation'] == 0].shape"
   ]
  },
  {
   "cell_type": "code",
   "execution_count": 64,
   "metadata": {},
   "outputs": [
    {
     "data": {
      "text/plain": [
       "(157237, 13)"
      ]
     },
     "execution_count": 64,
     "metadata": {},
     "output_type": "execute_result"
    }
   ],
   "source": [
    "sampled_df[sampled_df['rain_duration'] == 0].shape"
   ]
  },
  {
   "cell_type": "markdown",
   "metadata": {},
   "source": [
    "<p style=\"font-family: Arial; font-size:1.75em;color:purple; font-style:bold\"><br>\n",
    "\n",
    "Drop all the Rows with Empty rain_duration and rain_accumulation\n",
    "<br><br></p>\n"
   ]
  },
  {
   "cell_type": "code",
   "execution_count": 65,
   "metadata": {},
   "outputs": [],
   "source": [
    "del sampled_df['rain_accumulation']\n",
    "del sampled_df['rain_duration']"
   ]
  },
  {
   "cell_type": "code",
   "execution_count": 66,
   "metadata": {},
   "outputs": [],
   "source": [
    "rows_before = sampled_df.shape[0]\n",
    "sampled_df = sampled_df.dropna()\n",
    "rows_after = sampled_df.shape[0]"
   ]
  },
  {
   "cell_type": "markdown",
   "metadata": {},
   "source": [
    "######  How many rows did we drop ?"
   ]
  },
  {
   "cell_type": "code",
   "execution_count": 67,
   "metadata": {},
   "outputs": [
    {
     "data": {
      "text/plain": [
       "46"
      ]
     },
     "execution_count": 67,
     "metadata": {},
     "output_type": "execute_result"
    }
   ],
   "source": [
    "rows_before - rows_after"
   ]
  },
  {
   "cell_type": "code",
   "execution_count": 68,
   "metadata": {},
   "outputs": [
    {
     "data": {
      "text/plain": [
       "Index(['rowID', 'hpwren_timestamp', 'air_pressure', 'air_temp',\n",
       "       'avg_wind_direction', 'avg_wind_speed', 'max_wind_direction',\n",
       "       'max_wind_speed', 'min_wind_direction', 'min_wind_speed',\n",
       "       'relative_humidity'],\n",
       "      dtype='object')"
      ]
     },
     "execution_count": 68,
     "metadata": {},
     "output_type": "execute_result"
    }
   ],
   "source": [
    "sampled_df.columns"
   ]
  },
  {
   "cell_type": "markdown",
   "metadata": {},
   "source": [
    "###### Select Features of Interest for Clustering\n",
    "\n"
   ]
  },
  {
   "cell_type": "code",
   "execution_count": 69,
   "metadata": {},
   "outputs": [],
   "source": [
    "features = ['air_pressure', 'air_temp', 'avg_wind_direction', 'avg_wind_speed', 'max_wind_direction', \n",
    "        'max_wind_speed','relative_humidity']"
   ]
  },
  {
   "cell_type": "code",
   "execution_count": 82,
   "metadata": {},
   "outputs": [],
   "source": [
    "select_df = sampled_df[features]"
   ]
  },
  {
   "cell_type": "code",
   "execution_count": 83,
   "metadata": {},
   "outputs": [
    {
     "data": {
      "text/plain": [
       "Index(['air_pressure', 'air_temp', 'avg_wind_direction', 'avg_wind_speed',\n",
       "       'max_wind_direction', 'max_wind_speed', 'relative_humidity'],\n",
       "      dtype='object')"
      ]
     },
     "execution_count": 83,
     "metadata": {},
     "output_type": "execute_result"
    }
   ],
   "source": [
    "select_df.columns"
   ]
  },
  {
   "cell_type": "code",
   "execution_count": 72,
   "metadata": {},
   "outputs": [
    {
     "data": {
      "text/html": [
       "<div>\n",
       "<style scoped>\n",
       "    .dataframe tbody tr th:only-of-type {\n",
       "        vertical-align: middle;\n",
       "    }\n",
       "\n",
       "    .dataframe tbody tr th {\n",
       "        vertical-align: top;\n",
       "    }\n",
       "\n",
       "    .dataframe thead th {\n",
       "        text-align: right;\n",
       "    }\n",
       "</style>\n",
       "<table border=\"1\" class=\"dataframe\">\n",
       "  <thead>\n",
       "    <tr style=\"text-align: right;\">\n",
       "      <th></th>\n",
       "      <th>air_pressure</th>\n",
       "      <th>air_temp</th>\n",
       "      <th>avg_wind_direction</th>\n",
       "      <th>avg_wind_speed</th>\n",
       "      <th>max_wind_direction</th>\n",
       "      <th>max_wind_speed</th>\n",
       "      <th>relative_humidity</th>\n",
       "    </tr>\n",
       "  </thead>\n",
       "  <tbody>\n",
       "    <tr>\n",
       "      <th>0</th>\n",
       "      <td>912.3</td>\n",
       "      <td>64.76</td>\n",
       "      <td>97.0</td>\n",
       "      <td>1.2</td>\n",
       "      <td>106.0</td>\n",
       "      <td>1.6</td>\n",
       "      <td>60.5</td>\n",
       "    </tr>\n",
       "    <tr>\n",
       "      <th>10</th>\n",
       "      <td>912.3</td>\n",
       "      <td>62.24</td>\n",
       "      <td>144.0</td>\n",
       "      <td>1.2</td>\n",
       "      <td>167.0</td>\n",
       "      <td>1.8</td>\n",
       "      <td>38.5</td>\n",
       "    </tr>\n",
       "    <tr>\n",
       "      <th>20</th>\n",
       "      <td>912.2</td>\n",
       "      <td>63.32</td>\n",
       "      <td>100.0</td>\n",
       "      <td>2.0</td>\n",
       "      <td>122.0</td>\n",
       "      <td>2.5</td>\n",
       "      <td>58.3</td>\n",
       "    </tr>\n",
       "    <tr>\n",
       "      <th>30</th>\n",
       "      <td>912.2</td>\n",
       "      <td>62.60</td>\n",
       "      <td>91.0</td>\n",
       "      <td>2.0</td>\n",
       "      <td>103.0</td>\n",
       "      <td>2.4</td>\n",
       "      <td>57.9</td>\n",
       "    </tr>\n",
       "    <tr>\n",
       "      <th>40</th>\n",
       "      <td>912.2</td>\n",
       "      <td>64.04</td>\n",
       "      <td>81.0</td>\n",
       "      <td>2.6</td>\n",
       "      <td>88.0</td>\n",
       "      <td>2.9</td>\n",
       "      <td>57.4</td>\n",
       "    </tr>\n",
       "    <tr>\n",
       "      <th>...</th>\n",
       "      <td>...</td>\n",
       "      <td>...</td>\n",
       "      <td>...</td>\n",
       "      <td>...</td>\n",
       "      <td>...</td>\n",
       "      <td>...</td>\n",
       "      <td>...</td>\n",
       "    </tr>\n",
       "    <tr>\n",
       "      <th>1587210</th>\n",
       "      <td>915.9</td>\n",
       "      <td>75.56</td>\n",
       "      <td>330.0</td>\n",
       "      <td>1.0</td>\n",
       "      <td>341.0</td>\n",
       "      <td>1.3</td>\n",
       "      <td>47.8</td>\n",
       "    </tr>\n",
       "    <tr>\n",
       "      <th>1587220</th>\n",
       "      <td>915.9</td>\n",
       "      <td>75.56</td>\n",
       "      <td>330.0</td>\n",
       "      <td>1.1</td>\n",
       "      <td>341.0</td>\n",
       "      <td>1.4</td>\n",
       "      <td>48.0</td>\n",
       "    </tr>\n",
       "    <tr>\n",
       "      <th>1587230</th>\n",
       "      <td>915.9</td>\n",
       "      <td>75.56</td>\n",
       "      <td>344.0</td>\n",
       "      <td>1.4</td>\n",
       "      <td>352.0</td>\n",
       "      <td>1.7</td>\n",
       "      <td>48.0</td>\n",
       "    </tr>\n",
       "    <tr>\n",
       "      <th>1587240</th>\n",
       "      <td>915.9</td>\n",
       "      <td>75.20</td>\n",
       "      <td>359.0</td>\n",
       "      <td>1.3</td>\n",
       "      <td>9.0</td>\n",
       "      <td>1.6</td>\n",
       "      <td>46.3</td>\n",
       "    </tr>\n",
       "    <tr>\n",
       "      <th>1587250</th>\n",
       "      <td>915.9</td>\n",
       "      <td>74.84</td>\n",
       "      <td>6.0</td>\n",
       "      <td>1.5</td>\n",
       "      <td>20.0</td>\n",
       "      <td>1.9</td>\n",
       "      <td>46.1</td>\n",
       "    </tr>\n",
       "  </tbody>\n",
       "</table>\n",
       "<p>158680 rows × 7 columns</p>\n",
       "</div>"
      ],
      "text/plain": [
       "         air_pressure  air_temp  avg_wind_direction  avg_wind_speed  \\\n",
       "0               912.3     64.76                97.0             1.2   \n",
       "10              912.3     62.24               144.0             1.2   \n",
       "20              912.2     63.32               100.0             2.0   \n",
       "30              912.2     62.60                91.0             2.0   \n",
       "40              912.2     64.04                81.0             2.6   \n",
       "...               ...       ...                 ...             ...   \n",
       "1587210         915.9     75.56               330.0             1.0   \n",
       "1587220         915.9     75.56               330.0             1.1   \n",
       "1587230         915.9     75.56               344.0             1.4   \n",
       "1587240         915.9     75.20               359.0             1.3   \n",
       "1587250         915.9     74.84                 6.0             1.5   \n",
       "\n",
       "         max_wind_direction  max_wind_speed  relative_humidity  \n",
       "0                     106.0             1.6               60.5  \n",
       "10                    167.0             1.8               38.5  \n",
       "20                    122.0             2.5               58.3  \n",
       "30                    103.0             2.4               57.9  \n",
       "40                     88.0             2.9               57.4  \n",
       "...                     ...             ...                ...  \n",
       "1587210               341.0             1.3               47.8  \n",
       "1587220               341.0             1.4               48.0  \n",
       "1587230               352.0             1.7               48.0  \n",
       "1587240                 9.0             1.6               46.3  \n",
       "1587250                20.0             1.9               46.1  \n",
       "\n",
       "[158680 rows x 7 columns]"
      ]
     },
     "execution_count": 72,
     "metadata": {},
     "output_type": "execute_result"
    }
   ],
   "source": [
    "select_df"
   ]
  },
  {
   "cell_type": "markdown",
   "metadata": {},
   "source": [
    "###### Scale the Features using StandardScaler\n"
   ]
  },
  {
   "cell_type": "code",
   "execution_count": 73,
   "metadata": {},
   "outputs": [
    {
     "data": {
      "text/plain": [
       "array([[-1.48456281,  0.24544455, -0.68385323, ..., -0.62153592,\n",
       "        -0.74440309,  0.49233835],\n",
       "       [-1.48456281,  0.03247142, -0.19055941, ...,  0.03826701,\n",
       "        -0.66171726, -0.34710804],\n",
       "       [-1.51733167,  0.12374562, -0.65236639, ..., -0.44847286,\n",
       "        -0.37231683,  0.40839371],\n",
       "       ...,\n",
       "       [-0.30488381,  1.15818654,  1.90856325, ...,  2.0393087 ,\n",
       "        -0.70306017,  0.01538018],\n",
       "       [-0.30488381,  1.12776181,  2.06599745, ..., -1.67073075,\n",
       "        -0.74440309, -0.04948614],\n",
       "       [-0.30488381,  1.09733708, -1.63895404, ..., -1.55174989,\n",
       "        -0.62037434, -0.05711747]])"
      ]
     },
     "execution_count": 73,
     "metadata": {},
     "output_type": "execute_result"
    }
   ],
   "source": [
    "X = StandardScaler().fit_transform(select_df)\n",
    "X"
   ]
  },
  {
   "cell_type": "markdown",
   "metadata": {},
   "source": [
    "###### Use k-Means Clustering"
   ]
  },
  {
   "cell_type": "code",
   "execution_count": 74,
   "metadata": {},
   "outputs": [
    {
     "name": "stdout",
     "output_type": "stream",
     "text": [
      "model\n",
      " KMeans(n_clusters=12)\n"
     ]
    }
   ],
   "source": [
    "kmeans = KMeans(n_clusters=12)\n",
    "model = kmeans.fit(X)\n",
    "print(\"model\\n\", model)"
   ]
  },
  {
   "cell_type": "markdown",
   "metadata": {},
   "source": [
    "###### What are the centers of 12 clusters we formed\n"
   ]
  },
  {
   "cell_type": "code",
   "execution_count": 75,
   "metadata": {},
   "outputs": [
    {
     "data": {
      "text/plain": [
       "array([[ 1.36790158, -0.08166458, -1.2053249 , -0.05330448, -1.07385743,\n",
       "        -0.03316255, -0.97765202],\n",
       "       [-0.20816662,  0.63339374,  0.40874328,  0.73433799,  0.5169657 ,\n",
       "         0.67238155, -0.15353653],\n",
       "       [-0.72479146,  0.51168272,  0.17198136, -0.58221736,  0.34132973,\n",
       "        -0.59553755, -0.08788309],\n",
       "       [ 0.25205875, -0.99691268,  0.65841244, -0.54660573,  0.8487447 ,\n",
       "        -0.52924879,  1.15827331],\n",
       "       [-0.1637793 ,  0.86321727, -1.31178008, -0.58946825, -1.16778555,\n",
       "        -0.60476155, -0.64115273],\n",
       "       [-1.18311265, -0.8701715 ,  0.44682583,  1.98317253,  0.53832496,\n",
       "         1.94419331,  0.90861947],\n",
       "       [ 0.68709611,  0.48073509,  0.28226125, -0.53919992,  0.46875506,\n",
       "        -0.54551569, -0.76318829],\n",
       "       [-0.83557255, -1.20436936,  0.37681947,  0.36994644,  0.47507541,\n",
       "         0.35775465,  1.36568884],\n",
       "       [ 0.23422959,  0.32038874,  1.88815273, -0.65179307, -1.55172536,\n",
       "        -0.57665647, -0.28363417],\n",
       "       [ 0.06360158, -0.79106984, -1.19865111, -0.57036444, -1.04474114,\n",
       "        -0.58494759,  0.88013875],\n",
       "       [ 1.19040416, -0.25450331, -1.1549009 ,  2.12106046, -1.05336487,\n",
       "         2.23776343, -1.13465193],\n",
       "       [ 0.13574177,  0.83434575,  1.41344862, -0.63899948,  1.67791749,\n",
       "        -0.59005644, -0.71379529]])"
      ]
     },
     "execution_count": 75,
     "metadata": {},
     "output_type": "execute_result"
    }
   ],
   "source": [
    "centers = model.cluster_centers_\n",
    "centers"
   ]
  },
  {
   "cell_type": "markdown",
   "metadata": {},
   "source": [
    "###### Visualization\n"
   ]
  },
  {
   "cell_type": "markdown",
   "metadata": {},
   "source": [
    "Let us first create some utility functions which will help us in plotting graphs:"
   ]
  },
  {
   "cell_type": "code",
   "execution_count": 76,
   "metadata": {},
   "outputs": [],
   "source": [
    "# Function that creates a DataFrame with a column for Cluster Number\n",
    "\n",
    "def pd_centers(featuresUsed, centers):\n",
    "\tcolNames = list(featuresUsed)\n",
    "\tcolNames.append('prediction')\n",
    "\n",
    "\t# Zip with a column called 'prediction' (index)\n",
    "\tZ = [np.append(A, index) for index, A in enumerate(centers)]\n",
    "\n",
    "\t# Convert to pandas data frame for plotting\n",
    "\tP = pd.DataFrame(Z, columns=colNames)\n",
    "\tP['prediction'] = P['prediction'].astype(int)\n",
    "\treturn P"
   ]
  },
  {
   "cell_type": "code",
   "execution_count": 77,
   "metadata": {},
   "outputs": [],
   "source": [
    "# Function that creates Parallel Plots\n",
    "\n",
    "def parallel_plot(data):\n",
    "\tmy_colors = list(islice(cycle(['b', 'r', 'g', 'y', 'k']), None, len(data)))\n",
    "\tplt.figure(figsize=(15,8)).gca().axes.set_ylim([-3,+3])\n",
    "\tparallel_coordinates(data, 'prediction', color = my_colors, marker='o')"
   ]
  },
  {
   "cell_type": "code",
   "execution_count": 78,
   "metadata": {},
   "outputs": [
    {
     "data": {
      "text/html": [
       "<div>\n",
       "<style scoped>\n",
       "    .dataframe tbody tr th:only-of-type {\n",
       "        vertical-align: middle;\n",
       "    }\n",
       "\n",
       "    .dataframe tbody tr th {\n",
       "        vertical-align: top;\n",
       "    }\n",
       "\n",
       "    .dataframe thead th {\n",
       "        text-align: right;\n",
       "    }\n",
       "</style>\n",
       "<table border=\"1\" class=\"dataframe\">\n",
       "  <thead>\n",
       "    <tr style=\"text-align: right;\">\n",
       "      <th></th>\n",
       "      <th>air_pressure</th>\n",
       "      <th>air_temp</th>\n",
       "      <th>avg_wind_direction</th>\n",
       "      <th>avg_wind_speed</th>\n",
       "      <th>max_wind_direction</th>\n",
       "      <th>max_wind_speed</th>\n",
       "      <th>relative_humidity</th>\n",
       "      <th>prediction</th>\n",
       "    </tr>\n",
       "  </thead>\n",
       "  <tbody>\n",
       "    <tr>\n",
       "      <th>0</th>\n",
       "      <td>1.367902</td>\n",
       "      <td>-0.081665</td>\n",
       "      <td>-1.205325</td>\n",
       "      <td>-0.053304</td>\n",
       "      <td>-1.073857</td>\n",
       "      <td>-0.033163</td>\n",
       "      <td>-0.977652</td>\n",
       "      <td>0</td>\n",
       "    </tr>\n",
       "    <tr>\n",
       "      <th>1</th>\n",
       "      <td>-0.208167</td>\n",
       "      <td>0.633394</td>\n",
       "      <td>0.408743</td>\n",
       "      <td>0.734338</td>\n",
       "      <td>0.516966</td>\n",
       "      <td>0.672382</td>\n",
       "      <td>-0.153537</td>\n",
       "      <td>1</td>\n",
       "    </tr>\n",
       "    <tr>\n",
       "      <th>2</th>\n",
       "      <td>-0.724791</td>\n",
       "      <td>0.511683</td>\n",
       "      <td>0.171981</td>\n",
       "      <td>-0.582217</td>\n",
       "      <td>0.341330</td>\n",
       "      <td>-0.595538</td>\n",
       "      <td>-0.087883</td>\n",
       "      <td>2</td>\n",
       "    </tr>\n",
       "    <tr>\n",
       "      <th>3</th>\n",
       "      <td>0.252059</td>\n",
       "      <td>-0.996913</td>\n",
       "      <td>0.658412</td>\n",
       "      <td>-0.546606</td>\n",
       "      <td>0.848745</td>\n",
       "      <td>-0.529249</td>\n",
       "      <td>1.158273</td>\n",
       "      <td>3</td>\n",
       "    </tr>\n",
       "    <tr>\n",
       "      <th>4</th>\n",
       "      <td>-0.163779</td>\n",
       "      <td>0.863217</td>\n",
       "      <td>-1.311780</td>\n",
       "      <td>-0.589468</td>\n",
       "      <td>-1.167786</td>\n",
       "      <td>-0.604762</td>\n",
       "      <td>-0.641153</td>\n",
       "      <td>4</td>\n",
       "    </tr>\n",
       "    <tr>\n",
       "      <th>5</th>\n",
       "      <td>-1.183113</td>\n",
       "      <td>-0.870172</td>\n",
       "      <td>0.446826</td>\n",
       "      <td>1.983173</td>\n",
       "      <td>0.538325</td>\n",
       "      <td>1.944193</td>\n",
       "      <td>0.908619</td>\n",
       "      <td>5</td>\n",
       "    </tr>\n",
       "    <tr>\n",
       "      <th>6</th>\n",
       "      <td>0.687096</td>\n",
       "      <td>0.480735</td>\n",
       "      <td>0.282261</td>\n",
       "      <td>-0.539200</td>\n",
       "      <td>0.468755</td>\n",
       "      <td>-0.545516</td>\n",
       "      <td>-0.763188</td>\n",
       "      <td>6</td>\n",
       "    </tr>\n",
       "    <tr>\n",
       "      <th>7</th>\n",
       "      <td>-0.835573</td>\n",
       "      <td>-1.204369</td>\n",
       "      <td>0.376819</td>\n",
       "      <td>0.369946</td>\n",
       "      <td>0.475075</td>\n",
       "      <td>0.357755</td>\n",
       "      <td>1.365689</td>\n",
       "      <td>7</td>\n",
       "    </tr>\n",
       "    <tr>\n",
       "      <th>8</th>\n",
       "      <td>0.234230</td>\n",
       "      <td>0.320389</td>\n",
       "      <td>1.888153</td>\n",
       "      <td>-0.651793</td>\n",
       "      <td>-1.551725</td>\n",
       "      <td>-0.576656</td>\n",
       "      <td>-0.283634</td>\n",
       "      <td>8</td>\n",
       "    </tr>\n",
       "    <tr>\n",
       "      <th>9</th>\n",
       "      <td>0.063602</td>\n",
       "      <td>-0.791070</td>\n",
       "      <td>-1.198651</td>\n",
       "      <td>-0.570364</td>\n",
       "      <td>-1.044741</td>\n",
       "      <td>-0.584948</td>\n",
       "      <td>0.880139</td>\n",
       "      <td>9</td>\n",
       "    </tr>\n",
       "    <tr>\n",
       "      <th>10</th>\n",
       "      <td>1.190404</td>\n",
       "      <td>-0.254503</td>\n",
       "      <td>-1.154901</td>\n",
       "      <td>2.121060</td>\n",
       "      <td>-1.053365</td>\n",
       "      <td>2.237763</td>\n",
       "      <td>-1.134652</td>\n",
       "      <td>10</td>\n",
       "    </tr>\n",
       "    <tr>\n",
       "      <th>11</th>\n",
       "      <td>0.135742</td>\n",
       "      <td>0.834346</td>\n",
       "      <td>1.413449</td>\n",
       "      <td>-0.638999</td>\n",
       "      <td>1.677917</td>\n",
       "      <td>-0.590056</td>\n",
       "      <td>-0.713795</td>\n",
       "      <td>11</td>\n",
       "    </tr>\n",
       "  </tbody>\n",
       "</table>\n",
       "</div>"
      ],
      "text/plain": [
       "    air_pressure  air_temp  avg_wind_direction  avg_wind_speed  \\\n",
       "0       1.367902 -0.081665           -1.205325       -0.053304   \n",
       "1      -0.208167  0.633394            0.408743        0.734338   \n",
       "2      -0.724791  0.511683            0.171981       -0.582217   \n",
       "3       0.252059 -0.996913            0.658412       -0.546606   \n",
       "4      -0.163779  0.863217           -1.311780       -0.589468   \n",
       "5      -1.183113 -0.870172            0.446826        1.983173   \n",
       "6       0.687096  0.480735            0.282261       -0.539200   \n",
       "7      -0.835573 -1.204369            0.376819        0.369946   \n",
       "8       0.234230  0.320389            1.888153       -0.651793   \n",
       "9       0.063602 -0.791070           -1.198651       -0.570364   \n",
       "10      1.190404 -0.254503           -1.154901        2.121060   \n",
       "11      0.135742  0.834346            1.413449       -0.638999   \n",
       "\n",
       "    max_wind_direction  max_wind_speed  relative_humidity  prediction  \n",
       "0            -1.073857       -0.033163          -0.977652           0  \n",
       "1             0.516966        0.672382          -0.153537           1  \n",
       "2             0.341330       -0.595538          -0.087883           2  \n",
       "3             0.848745       -0.529249           1.158273           3  \n",
       "4            -1.167786       -0.604762          -0.641153           4  \n",
       "5             0.538325        1.944193           0.908619           5  \n",
       "6             0.468755       -0.545516          -0.763188           6  \n",
       "7             0.475075        0.357755           1.365689           7  \n",
       "8            -1.551725       -0.576656          -0.283634           8  \n",
       "9            -1.044741       -0.584948           0.880139           9  \n",
       "10           -1.053365        2.237763          -1.134652          10  \n",
       "11            1.677917       -0.590056          -0.713795          11  "
      ]
     },
     "execution_count": 78,
     "metadata": {},
     "output_type": "execute_result"
    }
   ],
   "source": [
    "P = pd_centers(features, centers)\n",
    "P"
   ]
  },
  {
   "cell_type": "markdown",
   "metadata": {},
   "source": [
    "# Dry Days"
   ]
  },
  {
   "cell_type": "code",
   "execution_count": 79,
   "metadata": {},
   "outputs": [
    {
     "data": {
      "image/png": "[encoded data removed]",
      "text/plain": [
       "<Figure size 1080x576 with 1 Axes>"
      ]
     },
     "metadata": {
      "needs_background": "light"
     },
     "output_type": "display_data"
    }
   ],
   "source": [
    "parallel_plot(P[P['relative_humidity'] < -0.5])"
   ]
  },
  {
   "cell_type": "markdown",
   "metadata": {},
   "source": [
    "# Warm Days"
   ]
  },
  {
   "cell_type": "code",
   "execution_count": 80,
   "metadata": {},
   "outputs": [
    {
     "data": {
      "image/png": "[encoded data removed]",
      "text/plain": [
       "<Figure size 1080x576 with 1 Axes>"
      ]
     },
     "metadata": {
      "needs_background": "light"
     },
     "output_type": "display_data"
    }
   ],
   "source": [
    "parallel_plot(P[P['air_temp'] > 0.5])"
   ]
  },
  {
   "cell_type": "markdown",
   "metadata": {},
   "source": [
    "# Cool Days"
   ]
  },
  {
   "cell_type": "code",
   "execution_count": 81,
   "metadata": {},
   "outputs": [
    {
     "data": {
      "image/png": "[encoded data removed]",
      "text/plain": [
       "<Figure size 1080x576 with 1 Axes>"
      ]
     },
     "metadata": {
      "needs_background": "light"
     },
     "output_type": "display_data"
    }
   ],
   "source": [
    "parallel_plot(P[(P['relative_humidity'] > 0.5) & (P['air_temp'] < 0.5)])"
   ]
  }
 ],
 "metadata": {
  "kernelspec": {
   "display_name": "Python 3 (ipykernel)",
   "language": "python",
   "name": "python3"
  },
  "language_info": {
   "codemirror_mode": {
    "name": "ipython",
    "version": 3
   },
   "file_extension": ".py",
   "mimetype": "text/x-python",
   "name": "python",
   "nbconvert_exporter": "python",
   "pygments_lexer": "ipython3",
   "version": "3.9.7"
  }
 },
 "nbformat": 4,
 "nbformat_minor": 1
}
